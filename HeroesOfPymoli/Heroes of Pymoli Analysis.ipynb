{
 "cells": [
  {
   "cell_type": "code",
   "execution_count": 26,
   "id": "87897f11",
   "metadata": {},
   "outputs": [],
   "source": [
    "import pandas as pd"
   ]
  },
  {
   "cell_type": "code",
   "execution_count": 27,
   "id": "ccaed7fe",
   "metadata": {},
   "outputs": [
    {
     "data": {
      "text/html": [
       "<div>\n",
       "<style scoped>\n",
       "    .dataframe tbody tr th:only-of-type {\n",
       "        vertical-align: middle;\n",
       "    }\n",
       "\n",
       "    .dataframe tbody tr th {\n",
       "        vertical-align: top;\n",
       "    }\n",
       "\n",
       "    .dataframe thead th {\n",
       "        text-align: right;\n",
       "    }\n",
       "</style>\n",
       "<table border=\"1\" class=\"dataframe\">\n",
       "  <thead>\n",
       "    <tr style=\"text-align: right;\">\n",
       "      <th></th>\n",
       "      <th>Purchase ID</th>\n",
       "      <th>SN</th>\n",
       "      <th>Age</th>\n",
       "      <th>Gender</th>\n",
       "      <th>Item ID</th>\n",
       "      <th>Item Name</th>\n",
       "      <th>Price</th>\n",
       "    </tr>\n",
       "  </thead>\n",
       "  <tbody>\n",
       "    <tr>\n",
       "      <th>0</th>\n",
       "      <td>0</td>\n",
       "      <td>Lisim78</td>\n",
       "      <td>20</td>\n",
       "      <td>Male</td>\n",
       "      <td>108</td>\n",
       "      <td>Extraction, Quickblade Of Trembling Hands</td>\n",
       "      <td>3.53</td>\n",
       "    </tr>\n",
       "    <tr>\n",
       "      <th>1</th>\n",
       "      <td>1</td>\n",
       "      <td>Lisovynya38</td>\n",
       "      <td>40</td>\n",
       "      <td>Male</td>\n",
       "      <td>143</td>\n",
       "      <td>Frenzied Scimitar</td>\n",
       "      <td>1.56</td>\n",
       "    </tr>\n",
       "    <tr>\n",
       "      <th>2</th>\n",
       "      <td>2</td>\n",
       "      <td>Ithergue48</td>\n",
       "      <td>24</td>\n",
       "      <td>Male</td>\n",
       "      <td>92</td>\n",
       "      <td>Final Critic</td>\n",
       "      <td>4.88</td>\n",
       "    </tr>\n",
       "    <tr>\n",
       "      <th>3</th>\n",
       "      <td>3</td>\n",
       "      <td>Chamassasya86</td>\n",
       "      <td>24</td>\n",
       "      <td>Male</td>\n",
       "      <td>100</td>\n",
       "      <td>Blindscythe</td>\n",
       "      <td>3.27</td>\n",
       "    </tr>\n",
       "    <tr>\n",
       "      <th>4</th>\n",
       "      <td>4</td>\n",
       "      <td>Iskosia90</td>\n",
       "      <td>23</td>\n",
       "      <td>Male</td>\n",
       "      <td>131</td>\n",
       "      <td>Fury</td>\n",
       "      <td>1.44</td>\n",
       "    </tr>\n",
       "  </tbody>\n",
       "</table>\n",
       "</div>"
      ],
      "text/plain": [
       "   Purchase ID             SN  Age Gender  Item ID  \\\n",
       "0            0        Lisim78   20   Male      108   \n",
       "1            1    Lisovynya38   40   Male      143   \n",
       "2            2     Ithergue48   24   Male       92   \n",
       "3            3  Chamassasya86   24   Male      100   \n",
       "4            4      Iskosia90   23   Male      131   \n",
       "\n",
       "                                   Item Name  Price  \n",
       "0  Extraction, Quickblade Of Trembling Hands   3.53  \n",
       "1                          Frenzied Scimitar   1.56  \n",
       "2                               Final Critic   4.88  \n",
       "3                                Blindscythe   3.27  \n",
       "4                                       Fury   1.44  "
      ]
     },
     "execution_count": 27,
     "metadata": {},
     "output_type": "execute_result"
    }
   ],
   "source": [
    "fpath = \"Resources/purchase_data.csv\"\n",
    "hop_df = pd.read_csv(fpath,encoding = 'latin1')\n",
    "hop_df.head()"
   ]
  },
  {
   "cell_type": "markdown",
   "id": "8e882e52",
   "metadata": {},
   "source": [
    "## Player Count"
   ]
  },
  {
   "cell_type": "code",
   "execution_count": 28,
   "id": "dce1811b",
   "metadata": {
    "scrolled": true
   },
   "outputs": [
    {
     "data": {
      "text/html": [
       "<div>\n",
       "<style scoped>\n",
       "    .dataframe tbody tr th:only-of-type {\n",
       "        vertical-align: middle;\n",
       "    }\n",
       "\n",
       "    .dataframe tbody tr th {\n",
       "        vertical-align: top;\n",
       "    }\n",
       "\n",
       "    .dataframe thead th {\n",
       "        text-align: right;\n",
       "    }\n",
       "</style>\n",
       "<table border=\"1\" class=\"dataframe\">\n",
       "  <thead>\n",
       "    <tr style=\"text-align: right;\">\n",
       "      <th></th>\n",
       "      <th>Total Players</th>\n",
       "    </tr>\n",
       "  </thead>\n",
       "  <tbody>\n",
       "    <tr>\n",
       "      <th>0</th>\n",
       "      <td>576</td>\n",
       "    </tr>\n",
       "  </tbody>\n",
       "</table>\n",
       "</div>"
      ],
      "text/plain": [
       "   Total Players\n",
       "0            576"
      ]
     },
     "execution_count": 28,
     "metadata": {},
     "output_type": "execute_result"
    }
   ],
   "source": [
    "player_list = hop_df[['SN','Gender','Age']].drop_duplicates()\n",
    "player_count = len(player_list['SN'])\n",
    "#print(f'Total number of players: {player_count}')\n",
    "pc_df = pd.DataFrame([{\"Total Players\":player_count}])\n",
    "pc_df"
   ]
  },
  {
   "cell_type": "markdown",
   "id": "473e7593",
   "metadata": {},
   "source": [
    "## Purchasing Analysis (Total)\n",
    "* Number Unique Items\n",
    "* Average Purchase Price\n",
    "* Total Number of Purchases\n",
    "* Total Revenue"
   ]
  },
  {
   "cell_type": "code",
   "execution_count": 29,
   "id": "e765dd98",
   "metadata": {},
   "outputs": [
    {
     "data": {
      "text/html": [
       "<div>\n",
       "<style scoped>\n",
       "    .dataframe tbody tr th:only-of-type {\n",
       "        vertical-align: middle;\n",
       "    }\n",
       "\n",
       "    .dataframe tbody tr th {\n",
       "        vertical-align: top;\n",
       "    }\n",
       "\n",
       "    .dataframe thead th {\n",
       "        text-align: right;\n",
       "    }\n",
       "</style>\n",
       "<table border=\"1\" class=\"dataframe\">\n",
       "  <thead>\n",
       "    <tr style=\"text-align: right;\">\n",
       "      <th></th>\n",
       "      <th>Num of Unique Items</th>\n",
       "      <th>Average Price</th>\n",
       "      <th>Num of Purchases</th>\n",
       "      <th>Total Revenue</th>\n",
       "    </tr>\n",
       "  </thead>\n",
       "  <tbody>\n",
       "    <tr>\n",
       "      <th>0</th>\n",
       "      <td>179</td>\n",
       "      <td>3.050987</td>\n",
       "      <td>780</td>\n",
       "      <td>2379.77</td>\n",
       "    </tr>\n",
       "  </tbody>\n",
       "</table>\n",
       "</div>"
      ],
      "text/plain": [
       "   Num of Unique Items  Average Price  Num of Purchases  Total Revenue\n",
       "0                  179       3.050987               780        2379.77"
      ]
     },
     "execution_count": 29,
     "metadata": {},
     "output_type": "execute_result"
    }
   ],
   "source": [
    "item_count = hop_df['Item Name'].nunique()\n",
    "# print(f'Number of Unique Items:{item_count}')\n",
    "\n",
    "ave_purch = hop_df['Price'].mean()\n",
    "# print(f'Average Purchase Price: ${ave_purch:.2f}')\n",
    "\n",
    "tot_purch_count = hop_df['Purchase ID'].nunique()\n",
    "# print(f'Total Number of Purchases: {tot_purch_count}')\n",
    "\n",
    "tot_rev = hop_df['Price'].sum()\n",
    "# print(f'Total Revenue: ${tot_rev:.2f}')\n",
    "\n",
    "purch_analysis = {\"Num of Unique Items\":item_count,\n",
    "                  \"Average Price\":ave_purch,\n",
    "                  \"Num of Purchases\":tot_purch_count,\n",
    "                  \"Total Revenue\": tot_rev}\n",
    "pa_df = pd.DataFrame(purch_analysis,index = [0])\n",
    "pa_df"
   ]
  },
  {
   "cell_type": "markdown",
   "id": "9105146d",
   "metadata": {},
   "source": [
    "### Gender Demographics\n",
    "\n",
    "* Percentage and Count of Male Players\n",
    "* Percentage and Count of Female Players\n",
    "* Percentage and Count of Other / Non-Disclosed"
   ]
  },
  {
   "cell_type": "code",
   "execution_count": 30,
   "id": "15ecd66e",
   "metadata": {},
   "outputs": [
    {
     "data": {
      "text/html": [
       "<div>\n",
       "<style scoped>\n",
       "    .dataframe tbody tr th:only-of-type {\n",
       "        vertical-align: middle;\n",
       "    }\n",
       "\n",
       "    .dataframe tbody tr th {\n",
       "        vertical-align: top;\n",
       "    }\n",
       "\n",
       "    .dataframe thead th {\n",
       "        text-align: right;\n",
       "    }\n",
       "</style>\n",
       "<table border=\"1\" class=\"dataframe\">\n",
       "  <thead>\n",
       "    <tr style=\"text-align: right;\">\n",
       "      <th></th>\n",
       "      <th>Count</th>\n",
       "      <th>Percentage of Players</th>\n",
       "    </tr>\n",
       "  </thead>\n",
       "  <tbody>\n",
       "    <tr>\n",
       "      <th>Female</th>\n",
       "      <td>81</td>\n",
       "      <td>14.06%</td>\n",
       "    </tr>\n",
       "    <tr>\n",
       "      <th>Male</th>\n",
       "      <td>484</td>\n",
       "      <td>84.03%</td>\n",
       "    </tr>\n",
       "    <tr>\n",
       "      <th>Other/Non-Disclosed</th>\n",
       "      <td>11</td>\n",
       "      <td>1.91%</td>\n",
       "    </tr>\n",
       "  </tbody>\n",
       "</table>\n",
       "</div>"
      ],
      "text/plain": [
       "                     Count Percentage of Players\n",
       "Female                  81                14.06%\n",
       "Male                   484                84.03%\n",
       "Other/Non-Disclosed     11                 1.91%"
      ]
     },
     "execution_count": 30,
     "metadata": {},
     "output_type": "execute_result"
    }
   ],
   "source": [
    "pcount_m = player_list['Gender'].value_counts()['Male']\n",
    "pcount_f = player_list['Gender'].value_counts()['Female']\n",
    "pcount_o = player_list['Gender'].value_counts()['Other / Non-Disclosed']\n",
    "\n",
    "perc_m = round(pcount_m/player_count,4)\n",
    "perc_f = round(pcount_f/player_count,4)\n",
    "perc_o = round(pcount_o/player_count,4)\n",
    "\n",
    "gender_dem = {\"Count\":[pcount_f,pcount_m,pcount_o],\n",
    "              \"Percentage of Players\":[perc_f,perc_m,perc_o]}\n",
    "gd_df = pd.DataFrame(gender_dem, index = [\"Female\",\"Male\",\"Other/Non-Disclosed\"])\n",
    "gd_df[\"Percentage of Players\"] = gd_df[\"Percentage of Players\"].map('{:.2%}'.format)\n",
    "gd_df"
   ]
  },
  {
   "cell_type": "markdown",
   "id": "fafc93d6",
   "metadata": {},
   "source": [
    "### Purchasing Analysis (Gender)\n",
    "\n",
    "* The below each broken by gender\n",
    "  * Purchase Count\n",
    "  * Average Purchase Price\n",
    "  * Total Purchase Value\n",
    "  * Average Purchase Total per Person by Gender"
   ]
  },
  {
   "cell_type": "code",
   "execution_count": 31,
   "id": "a2707ff3",
   "metadata": {},
   "outputs": [
    {
     "data": {
      "text/html": [
       "<style  type=\"text/css\" >\n",
       "</style><table id=\"T_6fd25_\" ><thead>    <tr>        <th class=\"blank level0\" ></th>        <th class=\"col_heading level0 col0\" >Purchase Count</th>        <th class=\"col_heading level0 col1\" >Average Purchase</th>        <th class=\"col_heading level0 col2\" >Total Purchase Value</th>        <th class=\"col_heading level0 col3\" >Avg Total Purchase per Person</th>    </tr></thead><tbody>\n",
       "                <tr>\n",
       "                        <th id=\"T_6fd25_level0_row0\" class=\"row_heading level0 row0\" >Female</th>\n",
       "                        <td id=\"T_6fd25_row0_col0\" class=\"data row0 col0\" >113</td>\n",
       "                        <td id=\"T_6fd25_row0_col1\" class=\"data row0 col1\" >$3.20</td>\n",
       "                        <td id=\"T_6fd25_row0_col2\" class=\"data row0 col2\" >$361.94</td>\n",
       "                        <td id=\"T_6fd25_row0_col3\" class=\"data row0 col3\" >$4.47</td>\n",
       "            </tr>\n",
       "            <tr>\n",
       "                        <th id=\"T_6fd25_level0_row1\" class=\"row_heading level0 row1\" >Male</th>\n",
       "                        <td id=\"T_6fd25_row1_col0\" class=\"data row1 col0\" >652</td>\n",
       "                        <td id=\"T_6fd25_row1_col1\" class=\"data row1 col1\" >$3.02</td>\n",
       "                        <td id=\"T_6fd25_row1_col2\" class=\"data row1 col2\" >$1,967.64</td>\n",
       "                        <td id=\"T_6fd25_row1_col3\" class=\"data row1 col3\" >$4.07</td>\n",
       "            </tr>\n",
       "            <tr>\n",
       "                        <th id=\"T_6fd25_level0_row2\" class=\"row_heading level0 row2\" >Other / Non-Disclosed</th>\n",
       "                        <td id=\"T_6fd25_row2_col0\" class=\"data row2 col0\" >15</td>\n",
       "                        <td id=\"T_6fd25_row2_col1\" class=\"data row2 col1\" >$3.35</td>\n",
       "                        <td id=\"T_6fd25_row2_col2\" class=\"data row2 col2\" >$50.19</td>\n",
       "                        <td id=\"T_6fd25_row2_col3\" class=\"data row2 col3\" >$4.56</td>\n",
       "            </tr>\n",
       "    </tbody></table>"
      ],
      "text/plain": [
       "<pandas.io.formats.style.Styler at 0x1acf62eb370>"
      ]
     },
     "execution_count": 31,
     "metadata": {},
     "output_type": "execute_result"
    }
   ],
   "source": [
    "grouped_hop_df = hop_df.groupby(['Gender'])\n",
    "\n",
    "purch_by_gend = grouped_hop_df['Gender'].count()\n",
    "avepurch = grouped_hop_df['Price'].mean()\n",
    "purchtotals = grouped_hop_df['Price'].sum()\n",
    "avepurch_per = (purchtotals/gender_dem['Count'])    \n",
    "\n",
    "pa_gen = {\n",
    "    \"Purchase Count\":purch_by_gend,\n",
    "    \"Average Purchase\": avepurch,\n",
    "    \"Total Purchase Value\":purchtotals,\n",
    "    \"Avg Total Purchase per Person\":avepurch_per\n",
    "    }\n",
    "\n",
    "summ_pagen_df = pd.DataFrame(pa_gen,index = [\"Female\",\"Male\",\"Other / Non-Disclosed\"])\n",
    "summ_pagen_df = summ_pagen_df.style.format({\"Average Purchase\":\"${:,.2f}\",\"Total Purchase Value\":\"${:,.2f}\", \"Avg Total Purchase per Person\":\"${:,.2f}\"})\n",
    "summ_pagen_df\n"
   ]
  },
  {
   "cell_type": "markdown",
   "id": "1028ca38",
   "metadata": {},
   "source": [
    "### Age Demographics\n",
    "\n",
    "* Establish bins for ages\n",
    "* Categorize the existing players using the age bins. Hint: use pd.cut()\n",
    "* Calculate the numbers and percentages by age group\n",
    "* Create a summary data frame to hold the results\n",
    "* Optional: round the percentage column to two decimal points\n",
    "* Display Age Demographics Table"
   ]
  },
  {
   "cell_type": "code",
   "execution_count": 72,
   "id": "ca702325",
   "metadata": {},
   "outputs": [
    {
     "data": {
      "text/html": [
       "<style  type=\"text/css\" >\n",
       "</style><table id=\"T_93973_\" ><thead>    <tr>        <th class=\"blank level0\" ></th>        <th class=\"col_heading level0 col0\" >Total Count</th>        <th class=\"col_heading level0 col1\" >Percentage of Players</th>    </tr>    <tr>        <th class=\"index_name level0\" >Age Group</th>        <th class=\"blank\" ></th>        <th class=\"blank\" ></th>    </tr></thead><tbody>\n",
       "                <tr>\n",
       "                        <th id=\"T_93973_level0_row0\" class=\"row_heading level0 row0\" ><10</th>\n",
       "                        <td id=\"T_93973_row0_col0\" class=\"data row0 col0\" >17</td>\n",
       "                        <td id=\"T_93973_row0_col1\" class=\"data row0 col1\" >2.95%</td>\n",
       "            </tr>\n",
       "            <tr>\n",
       "                        <th id=\"T_93973_level0_row1\" class=\"row_heading level0 row1\" >10-14</th>\n",
       "                        <td id=\"T_93973_row1_col0\" class=\"data row1 col0\" >22</td>\n",
       "                        <td id=\"T_93973_row1_col1\" class=\"data row1 col1\" >3.82%</td>\n",
       "            </tr>\n",
       "            <tr>\n",
       "                        <th id=\"T_93973_level0_row2\" class=\"row_heading level0 row2\" >15-19</th>\n",
       "                        <td id=\"T_93973_row2_col0\" class=\"data row2 col0\" >107</td>\n",
       "                        <td id=\"T_93973_row2_col1\" class=\"data row2 col1\" >18.58%</td>\n",
       "            </tr>\n",
       "            <tr>\n",
       "                        <th id=\"T_93973_level0_row3\" class=\"row_heading level0 row3\" >20-24</th>\n",
       "                        <td id=\"T_93973_row3_col0\" class=\"data row3 col0\" >258</td>\n",
       "                        <td id=\"T_93973_row3_col1\" class=\"data row3 col1\" >44.79%</td>\n",
       "            </tr>\n",
       "            <tr>\n",
       "                        <th id=\"T_93973_level0_row4\" class=\"row_heading level0 row4\" >25-29</th>\n",
       "                        <td id=\"T_93973_row4_col0\" class=\"data row4 col0\" >77</td>\n",
       "                        <td id=\"T_93973_row4_col1\" class=\"data row4 col1\" >13.37%</td>\n",
       "            </tr>\n",
       "            <tr>\n",
       "                        <th id=\"T_93973_level0_row5\" class=\"row_heading level0 row5\" >30-34</th>\n",
       "                        <td id=\"T_93973_row5_col0\" class=\"data row5 col0\" >52</td>\n",
       "                        <td id=\"T_93973_row5_col1\" class=\"data row5 col1\" >9.03%</td>\n",
       "            </tr>\n",
       "            <tr>\n",
       "                        <th id=\"T_93973_level0_row6\" class=\"row_heading level0 row6\" >35-39</th>\n",
       "                        <td id=\"T_93973_row6_col0\" class=\"data row6 col0\" >31</td>\n",
       "                        <td id=\"T_93973_row6_col1\" class=\"data row6 col1\" >5.38%</td>\n",
       "            </tr>\n",
       "            <tr>\n",
       "                        <th id=\"T_93973_level0_row7\" class=\"row_heading level0 row7\" >40+</th>\n",
       "                        <td id=\"T_93973_row7_col0\" class=\"data row7 col0\" >12</td>\n",
       "                        <td id=\"T_93973_row7_col1\" class=\"data row7 col1\" >2.08%</td>\n",
       "            </tr>\n",
       "    </tbody></table>"
      ],
      "text/plain": [
       "<pandas.io.formats.style.Styler at 0x1acf74da430>"
      ]
     },
     "execution_count": 72,
     "metadata": {},
     "output_type": "execute_result"
    }
   ],
   "source": [
    "bins = [5,9,14,19,24,29,34,39,50]\n",
    "group_names = [\"<10\",\"10-14\",\"15-19\",\"20-24\",\"25-29\",\"30-34\",\"35-39\",\"40+\"]\n",
    "\n",
    "player_list['Age Group'] = (pd.cut(player_list['Age'],bins,labels=group_names))\n",
    "player_list_groupby = player_list.groupby('Age Group')\n",
    "player_age_count = player_list_groupby.count()['Age']\n",
    "player_age_perc = player_age_count/player_count\n",
    "\n",
    "player_age_summary = {\n",
    "    'Total Count':player_age_count,\n",
    "    'Percentage of Players':player_age_perc\n",
    "}\n",
    "player_age_sum_df = pd.DataFrame(player_age_summary)\n",
    "player_age_sum_df = player_age_sum_df.style.format({\"Percentage of Players\":\"{:.2%}\"})\n",
    "player_age_sum_df"
   ]
  },
  {
   "cell_type": "markdown",
   "id": "7a249b05",
   "metadata": {},
   "source": [
    "### Purchasing Analysis (age)\n",
    "\n",
    "* The below each broken into bins of 4 years (i.e. &lt;10, 10-14, 15-19, etc.)\n",
    "  * Purchase Count\n",
    "  * Average Purchase Price\n",
    "  * Total Purchase Value\n",
    "  * Average Purchase Total per Person by Age"
   ]
  },
  {
   "cell_type": "code",
   "execution_count": 82,
   "id": "413d3adf",
   "metadata": {},
   "outputs": [
    {
     "data": {
      "text/html": [
       "<style  type=\"text/css\" >\n",
       "</style><table id=\"T_a391e_\" ><thead>    <tr>        <th class=\"blank level0\" ></th>        <th class=\"col_heading level0 col0\" >Purchase Count</th>        <th class=\"col_heading level0 col1\" >Average Purchase Price</th>        <th class=\"col_heading level0 col2\" >Total Purchase Value</th>        <th class=\"col_heading level0 col3\" >Avg Total Purchase per Person</th>    </tr>    <tr>        <th class=\"index_name level0\" >Age Group</th>        <th class=\"blank\" ></th>        <th class=\"blank\" ></th>        <th class=\"blank\" ></th>        <th class=\"blank\" ></th>    </tr></thead><tbody>\n",
       "                <tr>\n",
       "                        <th id=\"T_a391e_level0_row0\" class=\"row_heading level0 row0\" ><10</th>\n",
       "                        <td id=\"T_a391e_row0_col0\" class=\"data row0 col0\" >23</td>\n",
       "                        <td id=\"T_a391e_row0_col1\" class=\"data row0 col1\" >$3.35</td>\n",
       "                        <td id=\"T_a391e_row0_col2\" class=\"data row0 col2\" >$77.13</td>\n",
       "                        <td id=\"T_a391e_row0_col3\" class=\"data row0 col3\" >$4.54</td>\n",
       "            </tr>\n",
       "            <tr>\n",
       "                        <th id=\"T_a391e_level0_row1\" class=\"row_heading level0 row1\" >10-14</th>\n",
       "                        <td id=\"T_a391e_row1_col0\" class=\"data row1 col0\" >28</td>\n",
       "                        <td id=\"T_a391e_row1_col1\" class=\"data row1 col1\" >$2.96</td>\n",
       "                        <td id=\"T_a391e_row1_col2\" class=\"data row1 col2\" >$82.78</td>\n",
       "                        <td id=\"T_a391e_row1_col3\" class=\"data row1 col3\" >$3.76</td>\n",
       "            </tr>\n",
       "            <tr>\n",
       "                        <th id=\"T_a391e_level0_row2\" class=\"row_heading level0 row2\" >15-19</th>\n",
       "                        <td id=\"T_a391e_row2_col0\" class=\"data row2 col0\" >136</td>\n",
       "                        <td id=\"T_a391e_row2_col1\" class=\"data row2 col1\" >$3.04</td>\n",
       "                        <td id=\"T_a391e_row2_col2\" class=\"data row2 col2\" >$412.89</td>\n",
       "                        <td id=\"T_a391e_row2_col3\" class=\"data row2 col3\" >$3.86</td>\n",
       "            </tr>\n",
       "            <tr>\n",
       "                        <th id=\"T_a391e_level0_row3\" class=\"row_heading level0 row3\" >20-24</th>\n",
       "                        <td id=\"T_a391e_row3_col0\" class=\"data row3 col0\" >365</td>\n",
       "                        <td id=\"T_a391e_row3_col1\" class=\"data row3 col1\" >$3.05</td>\n",
       "                        <td id=\"T_a391e_row3_col2\" class=\"data row3 col2\" >$1,114.06</td>\n",
       "                        <td id=\"T_a391e_row3_col3\" class=\"data row3 col3\" >$4.32</td>\n",
       "            </tr>\n",
       "            <tr>\n",
       "                        <th id=\"T_a391e_level0_row4\" class=\"row_heading level0 row4\" >25-29</th>\n",
       "                        <td id=\"T_a391e_row4_col0\" class=\"data row4 col0\" >101</td>\n",
       "                        <td id=\"T_a391e_row4_col1\" class=\"data row4 col1\" >$2.90</td>\n",
       "                        <td id=\"T_a391e_row4_col2\" class=\"data row4 col2\" >$293.00</td>\n",
       "                        <td id=\"T_a391e_row4_col3\" class=\"data row4 col3\" >$3.81</td>\n",
       "            </tr>\n",
       "            <tr>\n",
       "                        <th id=\"T_a391e_level0_row5\" class=\"row_heading level0 row5\" >30-34</th>\n",
       "                        <td id=\"T_a391e_row5_col0\" class=\"data row5 col0\" >73</td>\n",
       "                        <td id=\"T_a391e_row5_col1\" class=\"data row5 col1\" >$2.93</td>\n",
       "                        <td id=\"T_a391e_row5_col2\" class=\"data row5 col2\" >$214.00</td>\n",
       "                        <td id=\"T_a391e_row5_col3\" class=\"data row5 col3\" >$4.12</td>\n",
       "            </tr>\n",
       "            <tr>\n",
       "                        <th id=\"T_a391e_level0_row6\" class=\"row_heading level0 row6\" >35-39</th>\n",
       "                        <td id=\"T_a391e_row6_col0\" class=\"data row6 col0\" >41</td>\n",
       "                        <td id=\"T_a391e_row6_col1\" class=\"data row6 col1\" >$3.60</td>\n",
       "                        <td id=\"T_a391e_row6_col2\" class=\"data row6 col2\" >$147.67</td>\n",
       "                        <td id=\"T_a391e_row6_col3\" class=\"data row6 col3\" >$4.76</td>\n",
       "            </tr>\n",
       "            <tr>\n",
       "                        <th id=\"T_a391e_level0_row7\" class=\"row_heading level0 row7\" >40+</th>\n",
       "                        <td id=\"T_a391e_row7_col0\" class=\"data row7 col0\" >13</td>\n",
       "                        <td id=\"T_a391e_row7_col1\" class=\"data row7 col1\" >$2.94</td>\n",
       "                        <td id=\"T_a391e_row7_col2\" class=\"data row7 col2\" >$38.24</td>\n",
       "                        <td id=\"T_a391e_row7_col3\" class=\"data row7 col3\" >$3.19</td>\n",
       "            </tr>\n",
       "    </tbody></table>"
      ],
      "text/plain": [
       "<pandas.io.formats.style.Styler at 0x1acf636eee0>"
      ]
     },
     "execution_count": 82,
     "metadata": {},
     "output_type": "execute_result"
    }
   ],
   "source": [
    "hop_df['Age Group'] = (pd.cut(hop_df['Age'],bins,labels=group_names))\n",
    "purch_by_age = hop_df.groupby('Age Group')\n",
    "pba_count = purch_by_age.count()['Purchase ID']\n",
    "pba_ave = purch_by_age.mean()['Price']\n",
    "pba_tot_rev = purch_by_age.sum()['Price']\n",
    "pba_ave_per = pba_tot_rev/player_age_count\n",
    "age_purch_summ = {\n",
    "    'Purchase Count':pba_count,\n",
    "    'Average Purchase Price':pba_ave,\n",
    "    'Total Purchase Value':pba_tot_rev,\n",
    "    'Avg Total Purchase per Person':pba_ave_per\n",
    "}\n",
    "age_purch_df = pd.DataFrame(age_purch_summ)\n",
    "age_purch_df = age_purch_df.style.format({\"Average Purchase Price\":\"${:,.2f}\",\n",
    "                                          \"Total Purchase Value\":\"${:,.2f}\",\n",
    "                                          'Avg Total Purchase per Person':\"${:,.2f}\"})\n",
    "age_purch_df"
   ]
  },
  {
   "cell_type": "markdown",
   "id": "69cd48cf",
   "metadata": {},
   "source": [
    "### Top Spenders\n",
    "\n",
    "* Identify the the top 5 spenders in the game by total purchase value, then list (in a table):\n",
    "  * SN\n",
    "  * Purchase Count\n",
    "  * Average Purchase Price\n",
    "  * Total Purchase Value"
   ]
  },
  {
   "cell_type": "code",
   "execution_count": null,
   "id": "c3242f6a",
   "metadata": {},
   "outputs": [],
   "source": []
  },
  {
   "cell_type": "markdown",
   "id": "c10d8431",
   "metadata": {},
   "source": [
    "### Most Popular Items\n",
    "\n",
    "* Identify the 5 most popular items by purchase count, then list (in a table):\n",
    "  * Item ID\n",
    "  * Item Name\n",
    "  * Purchase Count\n",
    "  * Item Price\n",
    "  * Total Purchase Value"
   ]
  },
  {
   "cell_type": "code",
   "execution_count": null,
   "id": "f0be695c",
   "metadata": {},
   "outputs": [],
   "source": []
  },
  {
   "cell_type": "markdown",
   "id": "3b4ec80f",
   "metadata": {},
   "source": [
    "### Most Profitable Items\n",
    "\n",
    "* Identify the 5 most profitable items by total purchase value, then list (in a table):\n",
    "  * Item ID\n",
    "  * Item Name\n",
    "  * Purchase Count\n",
    "  * Item Price\n",
    "  * Total Purchase Value"
   ]
  },
  {
   "cell_type": "code",
   "execution_count": null,
   "id": "65293487",
   "metadata": {},
   "outputs": [],
   "source": []
  }
 ],
 "metadata": {
  "kernelspec": {
   "display_name": "Python 3",
   "language": "python",
   "name": "python3"
  },
  "language_info": {
   "codemirror_mode": {
    "name": "ipython",
    "version": 3
   },
   "file_extension": ".py",
   "mimetype": "text/x-python",
   "name": "python",
   "nbconvert_exporter": "python",
   "pygments_lexer": "ipython3",
   "version": "3.8.8"
  }
 },
 "nbformat": 4,
 "nbformat_minor": 5
}
